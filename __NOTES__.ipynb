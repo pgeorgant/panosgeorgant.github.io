{
  "nbformat": 4,
  "nbformat_minor": 0,
  "metadata": {
    "colab": {
      "provenance": [],
      "authorship_tag": "ABX9TyMEzvKt3yHrkvewmFEg6Cyt",
      "include_colab_link": true
    },
    "kernelspec": {
      "name": "python3",
      "display_name": "Python 3"
    },
    "language_info": {
      "name": "python"
    }
  },
  "cells": [
    {
      "cell_type": "markdown",
      "metadata": {
        "id": "view-in-github",
        "colab_type": "text"
      },
      "source": [
        "<a href=\"https://colab.research.google.com/github/pgeorgant/pgeorgant.github.io/blob/main/__NOTES__.ipynb\" target=\"_parent\"><img src=\"https://colab.research.google.com/assets/colab-badge.svg\" alt=\"Open In Colab\"/></a>"
      ]
    },
    {
      "cell_type": "markdown",
      "source": [
        "### Variational Auto-Encoders\n",
        "* * *\n",
        "\n",
        "Let $\\hat{x} = \\mathcal{D}(z;\\theta)$ and $z = \\mathcal{E}(x;\\phi)$ where $X\\sim p(x)$ and $p_{\\theta,\\phi}(\\hat{x})$ its estimated density through a Encoder-Decoder schema.\n",
        "\n",
        "\\begin{align}\n",
        "log ~p(x) \\approx log p_{\\theta,\\phi}(\\hat{x}) &= E_{q_{\\phi}(x)}[ log ~p_{\\theta,\\phi}(\\hat{x}) ] = E_{q_{\\phi}(x)}[ log ~\\dfrac{p_{\\theta,\\phi}(\\hat{x},z)}{p_{\\theta}(z|x)} ] = E_{q_{\\phi}(x)}[ log ~\\dfrac{p_{\\theta,\\phi}(\\hat{x},z)q_{\\phi}(z|x)}{p_{\\theta}(z|x)q_{\\phi}(z|x)} ]\\\\ &= E_{q_{\\phi}(x)}[ log ~\\dfrac{p_{\\theta,\\phi}(\\hat{x},z)}{q_{\\phi}(z|x)}] + E_{q_{\\phi}(x)}[ log~\\dfrac{q_{\\phi}(z|x)}{p_{\\theta}(z|x)} ]\n",
        "\\end{align}\n",
        "\n",
        "where $p_{\\theta}(z|x)p(x) = p_{\\theta}(x|z)p(z)$."
      ],
      "metadata": {
        "id": "Bo6juL7iAzcx"
      }
    },
    {
      "cell_type": "code",
      "source": [],
      "metadata": {
        "id": "8mg1exSaaDWw"
      },
      "execution_count": null,
      "outputs": []
    }
  ]
}